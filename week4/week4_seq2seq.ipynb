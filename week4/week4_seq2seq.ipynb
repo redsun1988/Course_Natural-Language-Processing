{
  "nbformat": 4,
  "nbformat_minor": 0,
  "metadata": {
    "kernelspec": {
      "name": "python3",
      "display_name": "Python 3"
    },
    "language_info": {
      "codemirror_mode": {
        "name": "ipython",
        "version": 3
      },
      "file_extension": ".py",
      "mimetype": "text/x-python",
      "name": "python",
      "nbconvert_exporter": "python",
      "pygments_lexer": "ipython3",
      "version": "3.4.3"
    },
    "colab": {
      "name": "week4-seq2seq.ipynb",
      "provenance": [],
      "collapsed_sections": []
    },
    "accelerator": "GPU"
  },
  "cells": [
    {
      "cell_type": "code",
      "metadata": {
        "id": "-JJfrGYRHbKW",
        "colab_type": "code",
        "outputId": "0da2b8eb-0f53-4a2f-cbac-7f7439d58ce0",
        "colab": {
          "base_uri": "https://localhost:8080/",
          "height": 386
        }
      },
      "source": [
        "! wget https://raw.githubusercontent.com/hse-aml/natural-language-processing/master/setup_google_colab.py -O setup_google_colab.py\n",
        "import setup_google_colab\n",
        "setup_google_colab.setup_week3()"
      ],
      "execution_count": 39,
      "outputs": [
        {
          "output_type": "stream",
          "text": [
            "--2019-12-06 19:05:55--  https://raw.githubusercontent.com/hse-aml/natural-language-processing/master/setup_google_colab.py\n",
            "Resolving raw.githubusercontent.com (raw.githubusercontent.com)... 151.101.0.133, 151.101.64.133, 151.101.128.133, ...\n",
            "Connecting to raw.githubusercontent.com (raw.githubusercontent.com)|151.101.0.133|:443... connected.\n",
            "HTTP request sent, awaiting response... 200 OK\n",
            "Length: 1991 (1.9K) [text/plain]\n",
            "Saving to: ‘setup_google_colab.py’\n",
            "\n",
            "\rsetup_google_colab.   0%[                    ]       0  --.-KB/s               \rsetup_google_colab. 100%[===================>]   1.94K  --.-KB/s    in 0s      \n",
            "\n",
            "2019-12-06 19:05:55 (44.4 MB/s) - ‘setup_google_colab.py’ saved [1991/1991]\n",
            "\n",
            "--2019-12-06 19:08:17--  https://raw.githubusercontent.com/hse-aml/natural-language-processing/master/setup_google_colab.py\n",
            "Resolving raw.githubusercontent.com (raw.githubusercontent.com)... 151.101.0.133, 151.101.64.133, 151.101.128.133, ...\n",
            "Connecting to raw.githubusercontent.com (raw.githubusercontent.com)|151.101.0.133|:443... connected.\n",
            "HTTP request sent, awaiting response... 200 OK\n",
            "Length: 1991 (1.9K) [text/plain]\n",
            "Saving to: ‘setup_google_colab.py’\n",
            "\n",
            "setup_google_colab. 100%[===================>]   1.94K  --.-KB/s    in 0s      \n",
            "\n",
            "2019-12-06 19:08:17 (28.4 MB/s) - ‘setup_google_colab.py’ saved [1991/1991]\n",
            "\n"
          ],
          "name": "stdout"
        }
      ]
    },
    {
      "cell_type": "markdown",
      "metadata": {
        "id": "4pq1laZ_dX9U",
        "colab_type": "text"
      },
      "source": [
        "# Learn to calculate with seq2seq model\n",
        "\n",
        "In this assignment, you will learn how to use neural networks to solve sequence-to-sequence prediction tasks. Seq2Seq models are very popular these days because they achieve great results in Machine Translation, Text Summarization, Conversational Modeling and more.\n",
        "\n",
        "Using sequence-to-sequence modeling you are going to build a calculator for evaluating arithmetic expressions, by taking an equation as an input to the neural network and producing an answer as it's output.\n",
        "\n",
        "The resulting solution for this problem will be based on state-of-the-art approaches for sequence-to-sequence learning and you should be able to easily adapt it to solve other tasks. However, if you want to train your own machine translation system or intellectual chat bot, it would be useful to have access to compute resources like GPU, and be patient, because training of such systems is usually time consuming. \n",
        "\n",
        "### Libraries\n",
        "\n",
        "For this task you will need the following libraries:\n",
        " - [TensorFlow](https://www.tensorflow.org) — an open-source software library for Machine Intelligence.\n",
        " - [scikit-learn](http://scikit-learn.org/stable/index.html) — a tool for data mining and data analysis.\n",
        " \n",
        "If you have never worked with TensorFlow, you will probably want to read some tutorials during your work on this assignment, e.g. [Neural Machine Translation](https://www.tensorflow.org/tutorials/seq2seq) tutorial deals with very similar task and can explain some concepts to you. "
      ]
    },
    {
      "cell_type": "markdown",
      "metadata": {
        "id": "gIY25vYadX9W",
        "colab_type": "text"
      },
      "source": [
        "### Data\n",
        "\n",
        "One benefit of this task is that you don't need to download any data — you will generate it on your own! We will use two operators (addition and subtraction) and work with positive integer numbers in some range. Here are examples of correct inputs and outputs:\n",
        "\n",
        "    Input: '1+2'\n",
        "    Output: '3'\n",
        "    \n",
        "    Input: '0-99'\n",
        "    Output: '-99'\n",
        "\n",
        "*Note, that there are no spaces between operators and operands.*\n",
        "\n",
        "\n",
        "Now you need to implement the function *generate_equations*, which will be used to generate the data."
      ]
    },
    {
      "cell_type": "code",
      "metadata": {
        "id": "TfNQtQkQdX9X",
        "colab_type": "code",
        "colab": {}
      },
      "source": [
        "import random"
      ],
      "execution_count": 0,
      "outputs": []
    },
    {
      "cell_type": "code",
      "metadata": {
        "id": "WNwjNUuKdX9a",
        "colab_type": "code",
        "colab": {}
      },
      "source": [
        "def generate_equations(allowed_operators, dataset_size, min_value, max_value):\n",
        "    \"\"\"Generates pairs of equations and solutions to them.\n",
        "    \n",
        "       Each equation has a form of two integers with an operator in between.\n",
        "       Each solution is an integer with the result of the operaion.\n",
        "    \n",
        "        allowed_operators: list of strings, allowed operators.\n",
        "        dataset_size: an integer, number of equations to be generated.\n",
        "        min_value: an integer, min value of each operand.\n",
        "        max_value: an integer, max value of each operand.\n",
        "\n",
        "        result: a list of tuples of strings (equation, solution).\n",
        "    \"\"\"\n",
        "    sample = []\n",
        "    for _ in range(dataset_size):\n",
        "      val1 = random.randint(min_value, max_value)\n",
        "      val2 = random.randint(min_value, max_value)\n",
        "      oper = allowed_operators[random.randint(0, len(allowed_operators) - 1)]\n",
        "      equation = str(val1) + oper + str(val2)\n",
        "      solution = str(val1 + val2 if oper == \"+\" else val1 - val2)\n",
        "      sample.append((equation, solution)) \n",
        "\n",
        "    return sample"
      ],
      "execution_count": 0,
      "outputs": []
    },
    {
      "cell_type": "markdown",
      "metadata": {
        "id": "Lr-F_vzpdX9c",
        "colab_type": "text"
      },
      "source": [
        "To check the correctness of your implementation, use *test_generate_equations* function:"
      ]
    },
    {
      "cell_type": "code",
      "metadata": {
        "id": "1DIdwfttdX9c",
        "colab_type": "code",
        "colab": {}
      },
      "source": [
        "def test_generate_equations():\n",
        "    allowed_operators = ['+', '-']\n",
        "    dataset_size = 10\n",
        "    for (input_, output_) in generate_equations(allowed_operators, dataset_size, 0, 100):\n",
        "        if not (type(input_) is str and type(output_) is str):\n",
        "            return \"Both parts should be strings.\"\n",
        "        if eval(input_) != int(output_):\n",
        "            return \"The (equation: {!r}, solution: {!r}) pair is incorrect.\".format(input_, output_)\n",
        "    return \"Tests passed.\""
      ],
      "execution_count": 0,
      "outputs": []
    },
    {
      "cell_type": "code",
      "metadata": {
        "id": "WaPj52TedX9e",
        "colab_type": "code",
        "outputId": "5981565f-72ee-4f47-bee0-0974c73d45fc",
        "colab": {
          "base_uri": "https://localhost:8080/",
          "height": 50
        }
      },
      "source": [
        "print(test_generate_equations())"
      ],
      "execution_count": 43,
      "outputs": [
        {
          "output_type": "stream",
          "text": [
            "Tests passed.\n",
            "Tests passed.\n"
          ],
          "name": "stdout"
        }
      ]
    },
    {
      "cell_type": "markdown",
      "metadata": {
        "id": "01d-KajndX9f",
        "colab_type": "text"
      },
      "source": [
        "Finally, we are ready to generate the train and test data for the neural network:"
      ]
    },
    {
      "cell_type": "code",
      "metadata": {
        "id": "ClNlwOIRdX9h",
        "colab_type": "code",
        "colab": {}
      },
      "source": [
        "from sklearn.model_selection import train_test_split"
      ],
      "execution_count": 0,
      "outputs": []
    },
    {
      "cell_type": "code",
      "metadata": {
        "id": "6xg4qZoBdX9j",
        "colab_type": "code",
        "colab": {}
      },
      "source": [
        "allowed_operators = ['+', '-']\n",
        "dataset_size = 100000\n",
        "data = generate_equations(allowed_operators, dataset_size, min_value=0, max_value=9999)\n",
        "\n",
        "train_set, test_set = train_test_split(data, test_size=0.2, random_state=42)"
      ],
      "execution_count": 0,
      "outputs": []
    },
    {
      "cell_type": "markdown",
      "metadata": {
        "id": "N_fyA2OgdX9k",
        "colab_type": "text"
      },
      "source": [
        "## Prepare data for the neural network\n",
        "\n",
        "The next stage of data preparation is creating mappings of the characters to their indices in some vocabulary. Since in our task we already know which symbols will appear in the inputs and outputs, generating the vocabulary is a simple step.\n",
        "\n",
        "#### How to create dictionaries for other task\n",
        "\n",
        "First of all, you need to understand what is the basic unit of the sequence in your task. In our case, we operate on symbols and the basic unit is a symbol. The number of symbols is small, so we don't need to think about filtering/normalization steps. However, in other tasks, the basic unit is often a word, and in this case the mapping would be *word $\\to$ integer*. The number of words might be huge, so it would be reasonable to filter them, for example, by frequency and leave only the frequent ones. Other strategies that your should consider are: data normalization (lowercasing, tokenization, how to consider punctuation marks), separate vocabulary for input and for output (e.g. for machine translation), some specifics of the task."
      ]
    },
    {
      "cell_type": "code",
      "metadata": {
        "id": "cXZXN63NdX9m",
        "colab_type": "code",
        "colab": {}
      },
      "source": [
        "word2id = {symbol:i for i, symbol in enumerate('#^$+-1234567890')}\n",
        "id2word = {i:symbol for symbol, i in word2id.items()}"
      ],
      "execution_count": 0,
      "outputs": []
    },
    {
      "cell_type": "markdown",
      "metadata": {
        "id": "GlVtvFvodX9n",
        "colab_type": "text"
      },
      "source": [
        "#### Special symbols"
      ]
    },
    {
      "cell_type": "code",
      "metadata": {
        "id": "w3FKQv0DdX9o",
        "colab_type": "code",
        "colab": {}
      },
      "source": [
        "start_symbol = '^'\n",
        "end_symbol = '$'\n",
        "padding_symbol = '#'"
      ],
      "execution_count": 0,
      "outputs": []
    },
    {
      "cell_type": "markdown",
      "metadata": {
        "id": "hHb99qqgdX9q",
        "colab_type": "text"
      },
      "source": [
        "You could notice that we have added 3 special symbols: '^', '\\$' and '#':\n",
        "- '^' symbol will be passed to the network to indicate the beginning of the decoding procedure. We will discuss this one later in more details.\n",
        "- '\\$' symbol will be used to indicate the *end of a string*, both for input and output sequences. \n",
        "- '#' symbol will be used as a *padding* character to make lengths of all strings equal within one training batch.\n",
        "\n",
        "People have a bit different habits when it comes to special symbols in encoder-decoder networks, so don't get too much confused if you come across other variants in tutorials you read. "
      ]
    },
    {
      "cell_type": "markdown",
      "metadata": {
        "id": "nFwyEazedX9q",
        "colab_type": "text"
      },
      "source": [
        "#### Padding"
      ]
    },
    {
      "cell_type": "markdown",
      "metadata": {
        "id": "QF61qQOndX9r",
        "colab_type": "text"
      },
      "source": [
        "When vocabularies are ready, we need to be able to convert a sentence to a list of vocabulary word indices and back. At the same time, let's care about padding. We are going to preprocess each sequence from the input (and output ground truth) in such a way that:\n",
        "- it has a predefined length *padded_len*\n",
        "- it is probably cut off or padded with the *padding symbol* '#'\n",
        "- it *always* ends with the *end symbol* '$'\n",
        "\n",
        "We will treat the original characters of the sequence **and the end symbol** as the valid part of the input. We will store *the actual length* of the sequence, which includes the end symbol, but does not include the padding symbols. "
      ]
    },
    {
      "cell_type": "markdown",
      "metadata": {
        "id": "EBwLk03_dX9r",
        "colab_type": "text"
      },
      "source": [
        " Now you need to implement the function *sentence_to_ids* that does the described job. "
      ]
    },
    {
      "cell_type": "code",
      "metadata": {
        "id": "Tq-6wXXJdX9s",
        "colab_type": "code",
        "colab": {}
      },
      "source": [
        "def sentence_to_ids(sentence, word2id, padded_len):\n",
        "    \"\"\" Converts a sequence of symbols to a padded sequence of their ids.\n",
        "    \n",
        "      sentence: a string, input/output sequence of symbols.\n",
        "      word2id: a dict, a mapping from original symbols to ids.\n",
        "      padded_len: an integer, a desirable length of the sequence.\n",
        "\n",
        "      result: a tuple of (a list of ids, an actual length of sentence).\n",
        "    \"\"\"\n",
        "    \n",
        "    sent_ids = [word2id[ch] for ch in sentence][0:padded_len-1] + [word2id[\"$\"]] \n",
        "    sent_len = len(sent_ids)\n",
        "    sent_ids += [word2id[\"#\"]]*(padded_len - len(sent_ids)) \n",
        "    \n",
        "    return sent_ids, sent_len"
      ],
      "execution_count": 0,
      "outputs": []
    },
    {
      "cell_type": "markdown",
      "metadata": {
        "colab_type": "text",
        "id": "yCpwRDYYjPxL"
      },
      "source": [
        "Check that your implementation is correct:"
      ]
    },
    {
      "cell_type": "code",
      "metadata": {
        "id": "F_Iih5gbdX9u",
        "colab_type": "code",
        "colab": {}
      },
      "source": [
        "def test_sentence_to_ids():\n",
        "    sentences = [(\"123+123\", 7), (\"123+123\", 8), (\"123+123\", 10)]\n",
        "    expected_output = [([5, 6, 7, 3, 5, 6, 2], 7), \n",
        "                       ([5, 6, 7, 3, 5, 6, 7, 2], 8), \n",
        "                       ([5, 6, 7, 3, 5, 6, 7, 2, 0, 0], 8)] \n",
        "    for (sentence, padded_len), (sentence_ids, expected_length) in zip(sentences, expected_output):\n",
        "        output, length = sentence_to_ids(sentence, word2id, padded_len)\n",
        "        if output != sentence_ids:\n",
        "            return(\"Convertion of '{}' for padded_len={} to {} is incorrect.\".format(\n",
        "                sentence, padded_len, output))\n",
        "        if length != expected_length:\n",
        "            return(\"Convertion of '{}' for padded_len={} has incorrect actual length {}.\".format(\n",
        "                sentence, padded_len, length))\n",
        "    return(\"Tests passed.\")"
      ],
      "execution_count": 0,
      "outputs": []
    },
    {
      "cell_type": "code",
      "metadata": {
        "colab_type": "code",
        "outputId": "58368e37-5c78-4efb-eb95-0a5ce163af2c",
        "id": "C5K7LNXdkf5t",
        "colab": {
          "base_uri": "https://localhost:8080/",
          "height": 34
        }
      },
      "source": [
        "sentence_to_ids(\"123+123\",word2id, 8)"
      ],
      "execution_count": 50,
      "outputs": [
        {
          "output_type": "execute_result",
          "data": {
            "text/plain": [
              "([5, 6, 7, 3, 5, 6, 7, 2], 8)"
            ]
          },
          "metadata": {
            "tags": []
          },
          "execution_count": 12
        },
        {
          "output_type": "execute_result",
          "data": {
            "text/plain": [
              "([5, 6, 7, 3, 5, 6, 7, 2], 8)"
            ]
          },
          "metadata": {
            "tags": []
          },
          "execution_count": 50
        }
      ]
    },
    {
      "cell_type": "code",
      "metadata": {
        "id": "h-Aekj8YdX9v",
        "colab_type": "code",
        "outputId": "11527b22-3193-4fa5-e505-3ba07d51ae1d",
        "colab": {
          "base_uri": "https://localhost:8080/",
          "height": 50
        }
      },
      "source": [
        "print(test_sentence_to_ids())"
      ],
      "execution_count": 51,
      "outputs": [
        {
          "output_type": "stream",
          "text": [
            "Tests passed.\n",
            "Tests passed.\n"
          ],
          "name": "stdout"
        }
      ]
    },
    {
      "cell_type": "markdown",
      "metadata": {
        "id": "lsfC0ugvdX9y",
        "colab_type": "text"
      },
      "source": [
        "We also need to be able to get back from indices to symbols:"
      ]
    },
    {
      "cell_type": "code",
      "metadata": {
        "id": "wAAX4JdddX9z",
        "colab_type": "code",
        "colab": {}
      },
      "source": [
        "def ids_to_sentence(ids, id2word):\n",
        "    \"\"\" Converts a sequence of ids to a sequence of symbols.\n",
        "    \n",
        "          ids: a list, indices for the padded sequence.\n",
        "          id2word:  a dict, a mapping from ids to original symbols.\n",
        "\n",
        "          result: a list of symbols.\n",
        "    \"\"\"\n",
        " \n",
        "    return [id2word[i] for i in ids] "
      ],
      "execution_count": 0,
      "outputs": []
    },
    {
      "cell_type": "markdown",
      "metadata": {
        "id": "HGRS5TW_dX90",
        "colab_type": "text"
      },
      "source": [
        "#### Generating batches"
      ]
    },
    {
      "cell_type": "markdown",
      "metadata": {
        "id": "omwwrB7ddX91",
        "colab_type": "text"
      },
      "source": [
        "The final step of data preparation is a function that transforms a batch of sentences to a list of lists of indices. "
      ]
    },
    {
      "cell_type": "code",
      "metadata": {
        "id": "BcoPdZ-rdX92",
        "colab_type": "code",
        "colab": {}
      },
      "source": [
        "def batch_to_ids(sentences, word2id, max_len):\n",
        "    \"\"\"Prepares batches of indices. \n",
        "    \n",
        "       Sequences are padded to match the longest sequence in the batch,\n",
        "       if it's longer than max_len, then max_len is used instead.\n",
        "\n",
        "        sentences: a list of strings, original sequences.\n",
        "        word2id: a dict, a mapping from original symbols to ids.\n",
        "        max_len: an integer, max len of sequences allowed.\n",
        "\n",
        "        result: a list of lists of ids, a list of actual lengths.\n",
        "    \"\"\"\n",
        "    \n",
        "    max_len_in_batch = min(max(len(s) for s in sentences) + 1, max_len)\n",
        "    batch_ids, batch_ids_len = [], []\n",
        "    for sentence in sentences:\n",
        "        ids, ids_len = sentence_to_ids(sentence, word2id, max_len_in_batch)\n",
        "        batch_ids.append(ids)\n",
        "        batch_ids_len.append(ids_len)\n",
        "    return batch_ids, batch_ids_len"
      ],
      "execution_count": 0,
      "outputs": []
    },
    {
      "cell_type": "markdown",
      "metadata": {
        "id": "zjV7BkVOdX93",
        "colab_type": "text"
      },
      "source": [
        "The function *generate_batches* will help to generate batches with defined size from given samples."
      ]
    },
    {
      "cell_type": "code",
      "metadata": {
        "id": "irSVVZ91dX94",
        "colab_type": "code",
        "colab": {}
      },
      "source": [
        "def generate_batches(samples, batch_size=64):\n",
        "    X, Y = [], []\n",
        "    for i, (x, y) in enumerate(samples, 1):\n",
        "        X.append(x)\n",
        "        Y.append(y)\n",
        "        if i % batch_size == 0:\n",
        "            yield X, Y\n",
        "            X, Y = [], []\n",
        "    if X and Y:\n",
        "        yield X, Y"
      ],
      "execution_count": 0,
      "outputs": []
    },
    {
      "cell_type": "markdown",
      "metadata": {
        "id": "rhbHYlZWdX98",
        "colab_type": "text"
      },
      "source": [
        "To illustrate the result of the implemented functions, run the following cell:"
      ]
    },
    {
      "cell_type": "code",
      "metadata": {
        "id": "AcCKmx9cdX98",
        "colab_type": "code",
        "outputId": "6d1cf1a1-d1a1-4dfc-bc8f-60181a56ad01",
        "colab": {
          "base_uri": "https://localhost:8080/",
          "height": 118
        }
      },
      "source": [
        "sentences = train_set[0]\n",
        "ids, sent_lens = batch_to_ids(sentences, word2id, max_len=10)\n",
        "print('Input:', sentences)\n",
        "print('Ids: {}\\nSentences lengths: {}'.format(ids, sent_lens))"
      ],
      "execution_count": 55,
      "outputs": [
        {
          "output_type": "stream",
          "text": [
            "Input: ('8073-8384', '-311')\n",
            "Ids: [[12, 14, 11, 7, 4, 12, 7, 12, 8, 2], [4, 7, 5, 5, 2, 0, 0, 0, 0, 0]]\n",
            "Sentences lengths: [10, 5]\n",
            "Input: ('6828+4435', '11263')\n",
            "Ids: [[10, 12, 6, 12, 3, 8, 8, 7, 9, 2], [5, 5, 6, 10, 7, 2, 0, 0, 0, 0]]\n",
            "Sentences lengths: [10, 6]\n"
          ],
          "name": "stdout"
        }
      ]
    },
    {
      "cell_type": "markdown",
      "metadata": {
        "id": "VXw1Bj2GdX9_",
        "colab_type": "text"
      },
      "source": [
        "## Encoder-Decoder architecture\n",
        "\n",
        "Encoder-Decoder is a successful architecture for Seq2Seq tasks with different lengths of input and output sequences. The main idea is to use two recurrent neural networks, where the first neural network *encodes* the input sequence into a real-valued vector and then the second neural network *decodes* this vector into the output sequence. While building the neural network, we will specify some particular characteristics of this architecture."
      ]
    },
    {
      "cell_type": "code",
      "metadata": {
        "id": "UyVKEEredX-A",
        "colab_type": "code",
        "colab": {
          "base_uri": "https://localhost:8080/",
          "height": 62
        },
        "outputId": "7dca3d0e-92e2-4a28-b30e-8ec29ab51f0f"
      },
      "source": [
        "import tensorflow as tf"
      ],
      "execution_count": 56,
      "outputs": [
        {
          "output_type": "display_data",
          "data": {
            "text/html": [
              "<p style=\"color: red;\">\n",
              "The default version of TensorFlow in Colab will soon switch to TensorFlow 2.x.<br>\n",
              "We recommend you <a href=\"https://www.tensorflow.org/guide/migrate\" target=\"_blank\">upgrade</a> now \n",
              "or ensure your notebook will continue to use TensorFlow 1.x via the <code>%tensorflow_version 1.x</code> magic:\n",
              "<a href=\"https://colab.research.google.com/notebooks/tensorflow_version.ipynb\" target=\"_blank\">more info</a>.</p>\n"
            ],
            "text/plain": [
              "<IPython.core.display.HTML object>"
            ]
          },
          "metadata": {
            "tags": []
          }
        }
      ]
    },
    {
      "cell_type": "markdown",
      "metadata": {
        "id": "juwTTacCdX-D",
        "colab_type": "text"
      },
      "source": [
        "Let us use TensorFlow building blocks to specify the network architecture."
      ]
    },
    {
      "cell_type": "code",
      "metadata": {
        "id": "wVGzX_-odX-E",
        "colab_type": "code",
        "colab": {}
      },
      "source": [
        "class Seq2SeqModel(object):\n",
        "    pass"
      ],
      "execution_count": 0,
      "outputs": []
    },
    {
      "cell_type": "markdown",
      "metadata": {
        "id": "pIAi337ZdX-F",
        "colab_type": "text"
      },
      "source": [
        "First, we need to create [placeholders](https://www.tensorflow.org/api_guides/python/io_ops#Placeholders) to specify what data we are going to feed into the network during the execution time. For this task we will need:\n",
        " - *input_batch* — sequences of sentences (the shape will equal to [batch_size, max_sequence_len_in_batch]);\n",
        " - *input_batch_lengths* — lengths of not padded sequences (the shape equals to [batch_size]);\n",
        " - *ground_truth* — sequences of groundtruth (the shape will equal to [batch_size, max_sequence_len_in_batch]);\n",
        " - *ground_truth_lengths* — lengths of not padded groundtruth sequences (the shape equals to [batch_size]);\n",
        " - *dropout_ph* — dropout keep probability; this placeholder has a predifined value 1;\n",
        " - *learning_rate_ph* — learning rate."
      ]
    },
    {
      "cell_type": "code",
      "metadata": {
        "id": "Ii4SckkPdX-G",
        "colab_type": "code",
        "colab": {}
      },
      "source": [
        "def declare_placeholders(self):\n",
        "    \"\"\"Specifies placeholders for the model.\"\"\"\n",
        "    \n",
        "    # Placeholders for input and its actual lengths.\n",
        "    self.input_batch = tf.placeholder(shape=(None, None), dtype=tf.int32, name='input_batch')\n",
        "    self.input_batch_lengths = tf.placeholder(shape=(None, ), dtype=tf.int32, name='input_batch_lengths')\n",
        "    \n",
        "    # Placeholders for groundtruth and its actual lengths.\n",
        "    self.ground_truth = tf.placeholder(shape=(None, None), dtype=tf.int32, name=\"ground_truth\")\n",
        "    self.ground_truth_lengths = tf.placeholder(shape=(None, ), dtype=tf.int32, name=\"ground_truth_lengths\")\n",
        "        \n",
        "    self.dropout_ph = tf.placeholder_with_default(tf.cast(1.0, tf.float32), shape=[])\n",
        "    self.learning_rate_ph = tf.placeholder(shape=[], dtype=tf.float32, name=\"learning_rate_ph\") "
      ],
      "execution_count": 0,
      "outputs": []
    },
    {
      "cell_type": "code",
      "metadata": {
        "id": "9sWNUrLTdX-I",
        "colab_type": "code",
        "colab": {}
      },
      "source": [
        "Seq2SeqModel.__declare_placeholders = classmethod(declare_placeholders)"
      ],
      "execution_count": 0,
      "outputs": []
    },
    {
      "cell_type": "markdown",
      "metadata": {
        "id": "th_T9mqXdX-K",
        "colab_type": "text"
      },
      "source": [
        "Now, let us specify the layers of the neural network. First, we need to prepare an embedding matrix. Since we use the same vocabulary for input and output, we need only one such matrix. For tasks with different vocabularies there would be multiple embedding layers.\n",
        "- Create embeddings matrix with [tf.Variable](https://www.tensorflow.org/api_docs/python/tf/Variable). Specify its name, type (tf.float32), and initialize with random values.\n",
        "- Perform [embeddings lookup](https://www.tensorflow.org/api_docs/python/tf/nn/embedding_lookup) for a given input batch."
      ]
    },
    {
      "cell_type": "code",
      "metadata": {
        "id": "PqWsGy-1dX-K",
        "colab_type": "code",
        "colab": {}
      },
      "source": [
        "def create_embeddings(self, vocab_size, embeddings_size):\n",
        "    \"\"\"Specifies embeddings layer and embeds an input batch.\"\"\"\n",
        "     \n",
        "    random_initializer = tf.random_uniform((vocab_size, embeddings_size), -1.0, 1.0)\n",
        "    self.embeddings = tf.Variable(initial_value=random_initializer, dtype=tf.float32, name=\"embeddings\") \n",
        "    \n",
        "    # Perform embeddings lookup for self.input_batch. \n",
        "    self.input_batch_embedded = tf.nn.embedding_lookup(self.embeddings, ids=self.input_batch) "
      ],
      "execution_count": 0,
      "outputs": []
    },
    {
      "cell_type": "code",
      "metadata": {
        "id": "Z5JVPjwEdX-L",
        "colab_type": "code",
        "colab": {}
      },
      "source": [
        "Seq2SeqModel.__create_embeddings = classmethod(create_embeddings)"
      ],
      "execution_count": 0,
      "outputs": []
    },
    {
      "cell_type": "markdown",
      "metadata": {
        "id": "-1y0YIqidX-N",
        "colab_type": "text"
      },
      "source": [
        "#### Encoder\n",
        "\n",
        "The first RNN of the current architecture is called an *encoder* and serves for encoding an input sequence to a real-valued vector. Input of this RNN is an embedded input batch. Since sentences in the same batch could have different actual lengths, we also provide input lengths to avoid unnecessary computations. The final encoder state will be passed to the second RNN (decoder), which we will create soon. \n",
        "\n",
        "- TensorFlow provides a number of [RNN cells](https://www.tensorflow.org/api_guides/python/contrib.rnn#Core_RNN_Cells_for_use_with_TensorFlow_s_core_RNN_methods) ready for use. We suggest that you use [GRU cell](https://www.tensorflow.org/api_docs/python/tf/contrib/rnn/GRUCell), but you can also experiment with other types. \n",
        "- Wrap your cells with [DropoutWrapper](https://www.tensorflow.org/api_docs/python/tf/contrib/rnn/DropoutWrapper). Dropout is an important regularization technique for neural networks. Specify input keep probability using the dropout placeholder that we created before.\n",
        "- Combine the defined encoder cells with [Dynamic RNN](https://www.tensorflow.org/api_docs/python/tf/nn/dynamic_rnn). Use the embedded input batches and their lengths here.\n",
        "- Use *dtype=tf.float32* everywhere."
      ]
    },
    {
      "cell_type": "code",
      "metadata": {
        "id": "UIt6aYDadX-N",
        "colab_type": "code",
        "colab": {}
      },
      "source": [
        "def build_encoder(self, hidden_size):\n",
        "    \"\"\"Specifies encoder architecture and computes its output.\"\"\"\n",
        "    \n",
        "    # Create GRUCell with dropout.\n",
        "    encoder_cell = tf.nn.rnn_cell.DropoutWrapper(tf.nn.rnn_cell.GRUCell(num_units=hidden_size, dtype=tf.float32),\n",
        "                                                 input_keep_prob = self.dropout_ph, \n",
        "                                                 output_keep_prob = self.dropout_ph, \n",
        "                                                 state_keep_prob = self.dropout_ph) \n",
        "    \n",
        "    # Create RNN with the predefined cell.\n",
        "    _, self.final_encoder_state = tf.nn.dynamic_rnn(encoder_cell, self.input_batch_embedded, dtype=tf.float32)"
      ],
      "execution_count": 0,
      "outputs": []
    },
    {
      "cell_type": "code",
      "metadata": {
        "id": "2hJbDXYgdX-O",
        "colab_type": "code",
        "colab": {}
      },
      "source": [
        "Seq2SeqModel.__build_encoder = classmethod(build_encoder)"
      ],
      "execution_count": 0,
      "outputs": []
    },
    {
      "cell_type": "markdown",
      "metadata": {
        "id": "Y78Jf_5jdX-Q",
        "colab_type": "text"
      },
      "source": [
        "#### Decoder\n",
        "\n",
        "The second RNN is called a *decoder* and serves for generating the output sequence. In the simple seq2seq arcitecture, the input sequence is provided to the decoder only as the final state of the encoder. Obviously, it is a bottleneck and [Attention techniques](https://www.tensorflow.org/tutorials/seq2seq#background_on_the_attention_mechanism) can help to overcome it. So far, we do not need them to make our calculator work, but this would be a necessary ingredient for more advanced tasks. \n",
        "\n",
        "During training, decoder also uses information about the true output. It is feeded in as input symbol by symbol. However, during the prediction stage (which is called *inference* in this architecture), the decoder can only use its own generated output from the previous step to feed it in at the next step. Because of this difference (*training* vs *inference*), we will create two distinct instances, which will serve for the described scenarios.\n",
        "\n",
        "The picture below illustrates the point. It also shows our work with the special characters, e.g. look how the start symbol `^` is used. The transparent parts are ignored. In decoder, it is masked out in the loss computation. In encoder, the green state is considered as final and passed to the decoder. "
      ]
    },
    {
      "cell_type": "markdown",
      "metadata": {
        "id": "vfwBzKqadX-R",
        "colab_type": "text"
      },
      "source": [
        "<img src=\"https://github.com/hse-aml/natural-language-processing/blob/master/week4/encoder-decoder-pic.png?raw=1\" style=\"width: 500px;\">"
      ]
    },
    {
      "cell_type": "markdown",
      "metadata": {
        "id": "-wXIrtu0dX-S",
        "colab_type": "text"
      },
      "source": [
        "Now, it's time to implement the decoder:\n",
        " - First, we should create two [helpers](https://www.tensorflow.org/api_guides/python/contrib.seq2seq#Dynamic_Decoding). These classes help to determine the behaviour of the decoder. During the training time, we will use [TrainingHelper](https://www.tensorflow.org/api_docs/python/tf/contrib/seq2seq/TrainingHelper). For the inference we recommend to use [GreedyEmbeddingHelper](https://www.tensorflow.org/api_docs/python/tf/contrib/seq2seq/GreedyEmbeddingHelper).\n",
        " - To share all parameters during training and inference, we use one scope and set the flag 'reuse' to True at inference time. You might be interested to know more about how [variable scopes](https://www.tensorflow.org/programmers_guide/variables) work in TF. \n",
        " - To create the decoder itself, we will use [BasicDecoder](https://www.tensorflow.org/api_docs/python/tf/contrib/seq2seq/BasicDecoder) class. As previously, you should choose some RNN cell, e.g. GRU cell. To turn hidden states into logits, we will need a projection layer. One of the simple solutions is using [OutputProjectionWrapper](https://www.tensorflow.org/api_docs/python/tf/contrib/rnn/OutputProjectionWrapper).\n",
        " - For getting the predictions, it will be convinient to use [dynamic_decode](https://www.tensorflow.org/api_docs/python/tf/contrib/seq2seq/dynamic_decode). This function uses the provided decoder to perform decoding."
      ]
    },
    {
      "cell_type": "code",
      "metadata": {
        "id": "06NKP8dQdX-U",
        "colab_type": "code",
        "colab": {}
      },
      "source": [
        "def build_decoder(self, hidden_size, vocab_size, max_iter, start_symbol_id, end_symbol_id):\n",
        "    \"\"\"Specifies decoder architecture and computes the output.\n",
        "    \n",
        "        Uses different helpers:\n",
        "          - for train: feeding ground truth\n",
        "          - for inference: feeding generated output\n",
        "\n",
        "        As a result, self.train_outputs and self.infer_outputs are created. \n",
        "        Each of them contains two fields:\n",
        "          rnn_output (predicted logits)\n",
        "          sample_id (predictions).\n",
        "\n",
        "    \"\"\"\n",
        "    \n",
        "    # Use start symbols as the decoder inputs at the first time step.\n",
        "    batch_size = tf.shape(self.input_batch)[0]\n",
        "    start_tokens = tf.fill([batch_size], start_symbol_id)\n",
        "    ground_truth_as_input = tf.concat([tf.expand_dims(start_tokens, 1), self.ground_truth], 1)\n",
        "    \n",
        "    # Use the embedding layer defined before to lookup embedings for ground_truth_as_input. \n",
        "    self.ground_truth_embedded = tf.nn.embedding_lookup(self.embeddings, ids=ground_truth_as_input) \n",
        "    #ERROR? https://www.coursera.org/learn/language-processing/discussions/weeks/4/threads/OfOoJS-sEeiWCg59BohzEA/replies/Mv7-LDANEeiE4BKxE32lBA\n",
        "     \n",
        "    # Create TrainingHelper for the train stage.\n",
        "    train_helper = tf.contrib.seq2seq.TrainingHelper(self.ground_truth_embedded, \n",
        "                                                     self.ground_truth_lengths)\n",
        "    \n",
        "    # Create GreedyEmbeddingHelper for the inference stage.\n",
        "    # You should provide the embedding layer, start_tokens and index of the end symbol.\n",
        "    infer_helper = tf.contrib.seq2seq.GreedyEmbeddingHelper(self.embeddings, start_tokens, end_symbol_id)\n",
        "    \n",
        "  \n",
        "    def decode(helper, scope, reuse=None):\n",
        "        \"\"\"Creates decoder and return the results of the decoding with a given helper.\"\"\"\n",
        "        \n",
        "        with tf.variable_scope(scope, reuse=reuse):\n",
        "            # Create GRUCell with dropout. Do not forget to set the reuse flag properly.\n",
        "            decoder_cell = tf.nn.rnn_cell.DropoutWrapper(tf.nn.rnn_cell.GRUCell(hidden_size, reuse=reuse),\n",
        "                                                 input_keep_prob = self.dropout_ph, \n",
        "                                                 output_keep_prob = self.dropout_ph, \n",
        "                                                 state_keep_prob = self.dropout_ph)\n",
        "            \n",
        "            # Create a projection wrapper.\n",
        "            decoder_cell = tf.contrib.rnn.OutputProjectionWrapper(decoder_cell, vocab_size, reuse=reuse)\n",
        "            \n",
        "            # Create BasicDecoder, pass the defined cell, a helper, and initial state.\n",
        "            # The initial state should be equal to the final state of the encoder!\n",
        "            decoder = tf.contrib.seq2seq.BasicDecoder(decoder_cell, helper, initial_state=self.final_encoder_state)\n",
        "            \n",
        "            # The first returning argument of dynamic_decode contains two fields:\n",
        "            #   rnn_output (predicted logits)\n",
        "            #   sample_id (predictions)\n",
        "            outputs, _, _ = tf.contrib.seq2seq.dynamic_decode(decoder=decoder, maximum_iterations=max_iter, \n",
        "                                                              output_time_major=False, impute_finished=True)\n",
        "\n",
        "            return outputs\n",
        "        \n",
        "    self.train_outputs = decode(train_helper, 'decode')\n",
        "    self.infer_outputs = decode(infer_helper, 'decode', reuse=True)"
      ],
      "execution_count": 0,
      "outputs": []
    },
    {
      "cell_type": "code",
      "metadata": {
        "id": "-u_cbCvXdX-W",
        "colab_type": "code",
        "colab": {}
      },
      "source": [
        "Seq2SeqModel.__build_decoder = classmethod(build_decoder)"
      ],
      "execution_count": 0,
      "outputs": []
    },
    {
      "cell_type": "markdown",
      "metadata": {
        "id": "jMOkIYVFdX-Y",
        "colab_type": "text"
      },
      "source": [
        "In this task we will use [sequence_loss](https://www.tensorflow.org/api_docs/python/tf/contrib/seq2seq/sequence_loss), which is a weighted cross-entropy loss for a sequence of logits. Take a moment to understand, what is your train logits and targets. Also note, that we do not want to take into account loss terms coming from padding symbols, so we will mask them out using weights.  "
      ]
    },
    {
      "cell_type": "code",
      "metadata": {
        "id": "5njnPialdX-a",
        "colab_type": "code",
        "colab": {}
      },
      "source": [
        "def compute_loss(self):\n",
        "    \"\"\"Computes sequence loss (masked cross-entopy loss with logits).\"\"\"\n",
        "    \n",
        "    weights = tf.cast(tf.sequence_mask(self.ground_truth_lengths), dtype=tf.float32)\n",
        "    self.loss = tf.contrib.seq2seq.sequence_loss(targets=self.ground_truth,\n",
        "                                                   logits=self.train_outputs[0], \n",
        "                                                   weights=weights)"
      ],
      "execution_count": 0,
      "outputs": []
    },
    {
      "cell_type": "code",
      "metadata": {
        "id": "jM6Ecw7-dX-b",
        "colab_type": "code",
        "colab": {}
      },
      "source": [
        "Seq2SeqModel.__compute_loss = classmethod(compute_loss)"
      ],
      "execution_count": 0,
      "outputs": []
    },
    {
      "cell_type": "markdown",
      "metadata": {
        "id": "Al9X1VcrdX-e",
        "colab_type": "text"
      },
      "source": [
        "The last thing to specify is the optimization of the defined loss. \n",
        "We suggest that you use [optimize_loss](https://www.tensorflow.org/api_docs/python/tf/contrib/layers/optimize_loss) with Adam optimizer and a learning rate from the corresponding placeholder. You might also need to pass global step (e.g. as tf.train.get_global_step()) and clip gradients by 1.0."
      ]
    },
    {
      "cell_type": "code",
      "metadata": {
        "id": "WnjqVs4edX-e",
        "colab_type": "code",
        "colab": {}
      },
      "source": [
        "def perform_optimization(self):\n",
        "    \"\"\"Specifies train_op that optimizes self.loss.\"\"\"\n",
        "    # Create an optimizer (tf.train.AdamOptimizer)\n",
        "    self.optimizer =  tf.train.AdamOptimizer(learning_rate=self.learning_rate_ph)\n",
        "    self.grads_and_vars = self.optimizer.compute_gradients(self.loss)\n",
        "    \n",
        "    # Gradient clipping (tf.clip_by_norm) for self.grads_and_vars\n",
        "    # Pay attention that you need to apply this operation only for gradients \n",
        "    # because self.grads_and_vars also contains variables.\n",
        "    # list comprehension might be useful in this case.\n",
        "    clip_norm = tf.cast(1.0, tf.float32)\n",
        "    self.grads_and_vars = [(tf.clip_by_norm(g, clip_norm), v) for g,v in self.grads_and_vars] \n",
        "    \n",
        "    self.train_op = self.optimizer.apply_gradients(self.grads_and_vars)"
      ],
      "execution_count": 0,
      "outputs": []
    },
    {
      "cell_type": "code",
      "metadata": {
        "id": "EYxEt708dX-f",
        "colab_type": "code",
        "colab": {}
      },
      "source": [
        "Seq2SeqModel.__perform_optimization = classmethod(perform_optimization)"
      ],
      "execution_count": 0,
      "outputs": []
    },
    {
      "cell_type": "markdown",
      "metadata": {
        "id": "7jzI-NC1dX-i",
        "colab_type": "text"
      },
      "source": [
        "Congratulations! You have specified all the parts of your network. You may have noticed, that we didn't deal with any real data yet, so what you have written is just recipies on how the network should function.\n",
        "Now we will put them to the constructor of our Seq2SeqModel class to use it in the next section. "
      ]
    },
    {
      "cell_type": "code",
      "metadata": {
        "id": "q9ZaeAQNdX-j",
        "colab_type": "code",
        "colab": {}
      },
      "source": [
        "def init_model(self, vocab_size, embeddings_size, hidden_size, \n",
        "               max_iter, start_symbol_id, end_symbol_id, padding_symbol_id):\n",
        "    \n",
        "    self.__declare_placeholders()\n",
        "    self.__create_embeddings(vocab_size, embeddings_size)\n",
        "    self.__build_encoder(hidden_size)\n",
        "    self.__build_decoder(hidden_size, vocab_size, max_iter, start_symbol_id, end_symbol_id)\n",
        "    \n",
        "    # Compute loss and back-propagate.\n",
        "    self.__compute_loss()\n",
        "    self.__perform_optimization()\n",
        "    \n",
        "    # Get predictions for evaluation.\n",
        "    self.train_predictions = self.train_outputs.sample_id\n",
        "    self.infer_predictions = self.infer_outputs.sample_id"
      ],
      "execution_count": 0,
      "outputs": []
    },
    {
      "cell_type": "code",
      "metadata": {
        "id": "26AwPzuedX-k",
        "colab_type": "code",
        "colab": {}
      },
      "source": [
        "Seq2SeqModel.__init__ = classmethod(init_model)"
      ],
      "execution_count": 0,
      "outputs": []
    },
    {
      "cell_type": "markdown",
      "metadata": {
        "id": "yCv1dIyQdX-l",
        "colab_type": "text"
      },
      "source": [
        "## Train the network and predict output\n",
        "\n",
        "[Session.run](https://www.tensorflow.org/api_docs/python/tf/Session#run) is a point which initiates computations in the graph that we have defined. To train the network, we need to compute *self.train_op*. To predict output, we just need to compute *self.infer_predictions*. In any case, we need to feed actual data through the placeholders that we defined above. "
      ]
    },
    {
      "cell_type": "code",
      "metadata": {
        "id": "irmGrok5dX-m",
        "colab_type": "code",
        "colab": {}
      },
      "source": [
        "def train_on_batch(self, session, X, X_seq_len, Y, Y_seq_len, learning_rate, dropout_keep_probability):\n",
        "    feed_dict = {\n",
        "            self.input_batch: X,\n",
        "            self.input_batch_lengths: X_seq_len,\n",
        "            self.ground_truth: Y,\n",
        "            self.ground_truth_lengths: Y_seq_len,\n",
        "            self.learning_rate_ph: learning_rate,\n",
        "            self.dropout_ph: dropout_keep_probability\n",
        "        }\n",
        "    pred, loss, _ = session.run([\n",
        "            self.train_predictions,\n",
        "            self.loss,\n",
        "            self.train_op], feed_dict=feed_dict)\n",
        "    return pred, loss"
      ],
      "execution_count": 0,
      "outputs": []
    },
    {
      "cell_type": "code",
      "metadata": {
        "id": "HVYat5mAdX-p",
        "colab_type": "code",
        "colab": {}
      },
      "source": [
        "Seq2SeqModel.train_on_batch = classmethod(train_on_batch)"
      ],
      "execution_count": 0,
      "outputs": []
    },
    {
      "cell_type": "markdown",
      "metadata": {
        "id": "cuIEQ4H4dX-r",
        "colab_type": "text"
      },
      "source": [
        "We implemented two prediction functions: *predict_for_batch* and *predict_for_batch_with_loss*. The first one allows only to predict output for some input sequence, while the second one could compute loss because we provide also ground truth values. Both these functions might be useful since the first one could be used for predicting only, and the second one is helpful for validating results on not-training data during the training."
      ]
    },
    {
      "cell_type": "code",
      "metadata": {
        "id": "37UzUQO7dX-s",
        "colab_type": "code",
        "colab": {}
      },
      "source": [
        "def predict_for_batch(self, session, X, X_seq_len):\n",
        "    feed_dict = {\n",
        "        self.input_batch: X,\n",
        "        self.input_batch_lengths: X_seq_len,\n",
        "    }\n",
        "    pred = session.run([\n",
        "            self.infer_predictions\n",
        "        ], feed_dict=feed_dict)[0]\n",
        "    return pred\n",
        "\n",
        "def predict_for_batch_with_loss(self, session, X, X_seq_len, Y, Y_seq_len):\n",
        "    feed_dict = {\n",
        "        self.input_batch: X,\n",
        "        self.input_batch_lengths: X_seq_len,\n",
        "        self.ground_truth: Y, \n",
        "        self.ground_truth_lengths: Y_seq_len\n",
        "    }\n",
        "    pred, loss = session.run([\n",
        "            self.infer_predictions,\n",
        "            self.loss,\n",
        "        ], feed_dict=feed_dict)\n",
        "    return pred, loss"
      ],
      "execution_count": 0,
      "outputs": []
    },
    {
      "cell_type": "code",
      "metadata": {
        "id": "ui2N82aldX-u",
        "colab_type": "code",
        "colab": {}
      },
      "source": [
        "Seq2SeqModel.predict_for_batch = classmethod(predict_for_batch)\n",
        "Seq2SeqModel.predict_for_batch_with_loss = classmethod(predict_for_batch_with_loss)"
      ],
      "execution_count": 0,
      "outputs": []
    },
    {
      "cell_type": "markdown",
      "metadata": {
        "id": "fmCxnDHcdX-v",
        "colab_type": "text"
      },
      "source": [
        "## Run your experiment\n",
        "\n",
        "Create *Seq2SeqModel* model with the following parameters:\n",
        " - *vocab_size* — number of tokens;\n",
        " - *embeddings_size* — dimension of embeddings, recommended value: 20;\n",
        " - *max_iter* — maximum number of steps in decoder, recommended value: 7;\n",
        " - *hidden_size* — size of hidden layers for RNN, recommended value: 512;\n",
        " - *start_symbol_id* — an index of the start token (`^`).\n",
        " - *end_symbol_id* — an index of the end token (`$`).\n",
        " - *padding_symbol_id* — an index of the padding token (`#`).\n",
        "\n",
        "Set hyperparameters. You might want to start with the following values and see how it works:\n",
        "- *batch_size*: 128;\n",
        "- at least 10 epochs;\n",
        "- value of *learning_rate*: 0.001\n",
        "- *dropout_keep_probability* equals to 0.5 for training (typical values for dropout probability are ranging from 0.1 to 1.0); larger values correspond smaler number of dropout units;\n",
        "- *max_len*: 20."
      ]
    },
    {
      "cell_type": "code",
      "metadata": {
        "id": "8E4tsgQ7dX-v",
        "colab_type": "code",
        "colab": {}
      },
      "source": [
        "tf.reset_default_graph()\n",
        "\n",
        "model = Seq2SeqModel(vocab_size=len(word2id), \n",
        "                     embeddings_size=20,\n",
        "                     hidden_size=512,\n",
        "                     max_iter=7,\n",
        "                     start_symbol_id=word2id[\"^\"],\n",
        "                     end_symbol_id=word2id[\"$\"],\n",
        "                     padding_symbol_id=word2id[\"#\"])\n",
        "\n",
        "batch_size = 128\n",
        "n_epochs = 20\n",
        "learning_rate = 0.0007\n",
        "dropout_keep_probability = 0.55\n",
        "max_len = 20\n",
        "\n",
        "n_step = int(len(train_set) / batch_size)"
      ],
      "execution_count": 0,
      "outputs": []
    },
    {
      "cell_type": "code",
      "metadata": {
        "id": "syCcC3_0mrgz",
        "colab_type": "code",
        "colab": {}
      },
      "source": [
        "def convertEndedStringToInt(string):\n",
        "  index = string.find(\"$\")\n",
        "  return int(string[0:index])"
      ],
      "execution_count": 0,
      "outputs": []
    },
    {
      "cell_type": "markdown",
      "metadata": {
        "id": "cQaqF9OHdX-w",
        "colab_type": "text"
      },
      "source": [
        "Finally, we are ready to run the training! A good indicator that everything works fine is decreasing loss during the training. You should account on the loss value equal to approximately 2.7 at the beginning of the training and near 1 after the 10th epoch."
      ]
    },
    {
      "cell_type": "code",
      "metadata": {
        "scrolled": true,
        "id": "HueO1x8bdX-x",
        "colab_type": "code",
        "outputId": "dafcbf9e-ba5e-4af6-eae2-810eb74a12c7",
        "colab": {
          "base_uri": "https://localhost:8080/",
          "height": 1000
        }
      },
      "source": [
        "\n",
        "session = tf.Session()\n",
        "session.run(tf.global_variables_initializer())\n",
        "            \n",
        "invalid_number_prediction_counts = []\n",
        "all_model_predictions = []\n",
        "all_ground_truth = []\n",
        "\n",
        "print('Start training... \\n')\n",
        "for epoch in range(n_epochs):  \n",
        "    random.shuffle(train_set)\n",
        "    random.shuffle(test_set)\n",
        "    \n",
        "    print('Train: epoch', epoch + 1)\n",
        "    for n_iter, (X_batch, Y_batch) in enumerate(generate_batches(train_set, batch_size=batch_size)):\n",
        "        X, X_seq_len = batch_to_ids(X_batch, word2id, max_len)\n",
        "        Y, Y_seq_len = batch_to_ids(Y_batch, word2id, max_len)\n",
        "        pred, loss = model.train_on_batch(session, X, X_seq_len, Y, Y_seq_len, learning_rate, dropout_keep_probability)\n",
        "        # prepare the data (X_batch and Y_batch) for training\n",
        "        # using function batch_to_ids\n",
        "\n",
        "        if n_iter % 200 == 0:\n",
        "            print(\"Epoch: [%d/%d], step: [%d/%d], loss: %f\" % (epoch + 1, n_epochs, n_iter + 1, n_step, loss))\n",
        "                \n",
        "    X_sent, Y_sent = next(generate_batches(test_set, batch_size=batch_size))\n",
        "\n",
        "    X, X_seq_len = batch_to_ids(X_sent, word2id, max_len)\n",
        "    Y, Y_seq_len = batch_to_ids(Y_sent, word2id, max_len)\n",
        "    # prepare test data (X_sent and Y_sent) for predicting \n",
        "    # quality and computing value of the loss function\n",
        "    # using function batch_to_ids\n",
        "    \n",
        "    predictions, loss = model.predict_for_batch_with_loss(session=session, X=X, X_seq_len=X_seq_len, Y=Y, Y_seq_len=Y_seq_len)\n",
        "    print('Test: epoch', epoch + 1, 'loss:', loss,)\n",
        "    for x, y, p  in list(zip(X, Y, predictions))[:3]:\n",
        "        print('X:',''.join(ids_to_sentence(x, id2word)))\n",
        "        print('Y:',''.join(ids_to_sentence(y, id2word)))\n",
        "        print('O:',''.join(ids_to_sentence(p, id2word)))\n",
        "        print('')\n",
        "\n",
        "    model_predictions = []\n",
        "    ground_truth = []\n",
        "    invalid_number_prediction_count = 0\n",
        "    # For the whole test set calculate ground-truth values (as integer numbers)\n",
        "    # and prediction values (also as integers) to calculate metrics.\n",
        "    # If generated by model number is not correct (e.g. '1-1'), \n",
        "    # increase invalid_number_prediction_count and don't append this and corresponding\n",
        "    # ground-truth value to the arrays.\n",
        "    for X_batch, Y_batch in generate_batches(test_set, batch_size=batch_size):\n",
        "      X, X_seq_len = batch_to_ids(X_batch, word2id, max_len)\n",
        "      Y, Y_seq_len = batch_to_ids(Y_batch, word2id, max_len)\n",
        "      pred = model.predict_for_batch(session,X, X_seq_len)\n",
        "      for p, y in zip(pred, Y):\n",
        "        p_value = convertEndedStringToInt(\"\".join(ids_to_sentence(p, id2word)))\n",
        "        y_value = convertEndedStringToInt(\"\".join(ids_to_sentence(y, id2word))) \n",
        "        #if (p_value != y_value):\n",
        "        #  invalid_number_prediction_count +=1\n",
        "        #else:\n",
        "        model_predictions.append(p_value)\n",
        "        ground_truth.append(y_value) \n",
        "\n",
        "    \n",
        "    all_model_predictions.append(model_predictions)\n",
        "    all_ground_truth.append(ground_truth)\n",
        "    invalid_number_prediction_counts.append(invalid_number_prediction_count)\n",
        "            \n",
        "print('\\n...training finished.')"
      ],
      "execution_count": 109,
      "outputs": [
        {
          "output_type": "stream",
          "text": [
            "Start training... \n",
            "\n",
            "Train: epoch 1\n",
            "Epoch: [1/20], step: [1/625], loss: 2.809967\n",
            "Epoch: [1/20], step: [201/625], loss: 1.982218\n",
            "Epoch: [1/20], step: [401/625], loss: 1.893055\n",
            "Epoch: [1/20], step: [601/625], loss: 1.816068\n",
            "Test: epoch 1 loss: 1.7655624\n",
            "X: 3370-5546$\n",
            "Y: -2176$\n",
            "O: -1117$\n",
            "\n",
            "X: 9385+1099$\n",
            "Y: 10484$\n",
            "O: 12111$\n",
            "\n",
            "X: 2326-3521$\n",
            "Y: -1195$\n",
            "O: -1117$\n",
            "\n",
            "Train: epoch 2\n",
            "Epoch: [2/20], step: [1/625], loss: 1.829626\n",
            "Epoch: [2/20], step: [201/625], loss: 1.815324\n",
            "Epoch: [2/20], step: [401/625], loss: 1.809745\n",
            "Epoch: [2/20], step: [601/625], loss: 1.724162\n",
            "Test: epoch 2 loss: 1.6827693\n",
            "X: 8525+5729$\n",
            "Y: 14254$\n",
            "O: 13537$\n",
            "\n",
            "X: 9751+903$#\n",
            "Y: 10654$\n",
            "O: 10032$\n",
            "\n",
            "X: 4941-8950$\n",
            "Y: -4009$\n",
            "O: -1033$\n",
            "\n",
            "Train: epoch 3\n",
            "Epoch: [3/20], step: [1/625], loss: 1.733497\n",
            "Epoch: [3/20], step: [201/625], loss: 1.695772\n",
            "Epoch: [3/20], step: [401/625], loss: 1.665178\n",
            "Epoch: [3/20], step: [601/625], loss: 1.609703\n",
            "Test: epoch 3 loss: 1.5557331\n",
            "X: 8158+2400$\n",
            "Y: 10558$\n",
            "O: 10395$\n",
            "\n",
            "X: 2220+9265$\n",
            "Y: 11485$\n",
            "O: 11935$\n",
            "\n",
            "X: 5043+5593$\n",
            "Y: 10636$\n",
            "O: 10395$\n",
            "\n",
            "Train: epoch 4\n",
            "Epoch: [4/20], step: [1/625], loss: 1.645960\n",
            "Epoch: [4/20], step: [201/625], loss: 1.650743\n",
            "Epoch: [4/20], step: [401/625], loss: 1.587632\n",
            "Epoch: [4/20], step: [601/625], loss: 1.583112\n",
            "Test: epoch 4 loss: 1.48873\n",
            "X: 9901+2986$\n",
            "Y: 12887$\n",
            "O: 12082$\n",
            "\n",
            "X: 5059-4397$\n",
            "Y: 662$##\n",
            "O: 1032$#\n",
            "\n",
            "X: 858-483$##\n",
            "Y: 375$##\n",
            "O: -103$#\n",
            "\n",
            "Train: epoch 5\n",
            "Epoch: [5/20], step: [1/625], loss: 1.611395\n",
            "Epoch: [5/20], step: [201/625], loss: 1.575265\n",
            "Epoch: [5/20], step: [401/625], loss: 1.585855\n",
            "Epoch: [5/20], step: [601/625], loss: 1.561134\n",
            "Test: epoch 5 loss: 1.4628676\n",
            "X: 1313-9253$\n",
            "Y: -7940$\n",
            "O: -7095$\n",
            "\n",
            "X: 1914-5105$\n",
            "Y: -3191$\n",
            "O: -3605$\n",
            "\n",
            "X: 5937-7165$\n",
            "Y: -1228$\n",
            "O: -115$#\n",
            "\n",
            "Train: epoch 6\n",
            "Epoch: [6/20], step: [1/625], loss: 1.570266\n",
            "Epoch: [6/20], step: [201/625], loss: 1.559346\n",
            "Epoch: [6/20], step: [401/625], loss: 1.565591\n",
            "Epoch: [6/20], step: [601/625], loss: 1.499876\n",
            "Test: epoch 6 loss: 1.4402544\n",
            "X: 369-8367$#\n",
            "Y: -7998$\n",
            "O: -8007$\n",
            "\n",
            "X: 723-9050$#\n",
            "Y: -8327$\n",
            "O: -8007$\n",
            "\n",
            "X: 4240-6669$\n",
            "Y: -2429$\n",
            "O: -2022$\n",
            "\n",
            "Train: epoch 7\n",
            "Epoch: [7/20], step: [1/625], loss: 1.551851\n",
            "Epoch: [7/20], step: [201/625], loss: 1.510710\n",
            "Epoch: [7/20], step: [401/625], loss: 1.519849\n",
            "Epoch: [7/20], step: [601/625], loss: 1.548049\n",
            "Test: epoch 7 loss: 1.434682\n",
            "X: 9671+5560$\n",
            "Y: 15231$\n",
            "O: 15300$\n",
            "\n",
            "X: 1310+508$#\n",
            "Y: 1818$#\n",
            "O: 2720$#\n",
            "\n",
            "X: 2088+1424$\n",
            "Y: 3512$#\n",
            "O: 3830$#\n",
            "\n",
            "Train: epoch 8\n",
            "Epoch: [8/20], step: [1/625], loss: 1.550432\n",
            "Epoch: [8/20], step: [201/625], loss: 1.520542\n",
            "Epoch: [8/20], step: [401/625], loss: 1.532225\n",
            "Epoch: [8/20], step: [601/625], loss: 1.519760\n",
            "Test: epoch 8 loss: 1.4145169\n",
            "X: 5006+8915$\n",
            "Y: 13921$\n",
            "O: 14510$\n",
            "\n",
            "X: 4976-1719$\n",
            "Y: 3257$#\n",
            "O: 3010$#\n",
            "\n",
            "X: 7679-1509$\n",
            "Y: 6170$#\n",
            "O: 6110$#\n",
            "\n",
            "Train: epoch 9\n",
            "Epoch: [9/20], step: [1/625], loss: 1.484696\n",
            "Epoch: [9/20], step: [201/625], loss: 1.491454\n",
            "Epoch: [9/20], step: [401/625], loss: 1.502299\n",
            "Epoch: [9/20], step: [601/625], loss: 1.489503\n",
            "Test: epoch 9 loss: 1.4396856\n",
            "X: 9035-1470$\n",
            "Y: 7565$#\n",
            "O: 7211$#\n",
            "\n",
            "X: 9236+6300$\n",
            "Y: 15536$\n",
            "O: 15111$\n",
            "\n",
            "X: 6024+7635$\n",
            "Y: 13659$\n",
            "O: 13411$\n",
            "\n",
            "Train: epoch 10\n",
            "Epoch: [10/20], step: [1/625], loss: 1.516068\n",
            "Epoch: [10/20], step: [201/625], loss: 1.529859\n",
            "Epoch: [10/20], step: [401/625], loss: 1.482660\n",
            "Epoch: [10/20], step: [601/625], loss: 1.495427\n",
            "Test: epoch 10 loss: 1.3869818\n",
            "X: 8869-2457$\n",
            "Y: 6412$#\n",
            "O: 6966$#\n",
            "\n",
            "X: 4485+3035$\n",
            "Y: 7520$#\n",
            "O: 7966$#\n",
            "\n",
            "X: 9812+6535$\n",
            "Y: 16347$\n",
            "O: 16666$\n",
            "\n",
            "Train: epoch 11\n",
            "Epoch: [11/20], step: [1/625], loss: 1.493995\n",
            "Epoch: [11/20], step: [201/625], loss: 1.501991\n",
            "Epoch: [11/20], step: [401/625], loss: 1.502015\n",
            "Epoch: [11/20], step: [601/625], loss: 1.445264\n",
            "Test: epoch 11 loss: 1.3937298\n",
            "X: 6191+6450$\n",
            "Y: 12641$\n",
            "O: 12868$\n",
            "\n",
            "X: 5427+1638$\n",
            "Y: 7065$#\n",
            "O: 6968$#\n",
            "\n",
            "X: 4257+5864$\n",
            "Y: 10121$\n",
            "O: 9908$#\n",
            "\n",
            "Train: epoch 12\n",
            "Epoch: [12/20], step: [1/625], loss: 1.509057\n",
            "Epoch: [12/20], step: [201/625], loss: 1.472792\n",
            "Epoch: [12/20], step: [401/625], loss: 1.456187\n",
            "Epoch: [12/20], step: [601/625], loss: 1.455923\n",
            "Test: epoch 12 loss: 1.4089518\n",
            "X: 7714-4360$\n",
            "Y: 3354$#\n",
            "O: 3198$#\n",
            "\n",
            "X: 9315+3287$\n",
            "Y: 12602$\n",
            "O: 12618$\n",
            "\n",
            "X: 7605+7452$\n",
            "Y: 15057$\n",
            "O: 15538$\n",
            "\n",
            "Train: epoch 13\n",
            "Epoch: [13/20], step: [1/625], loss: 1.475804\n",
            "Epoch: [13/20], step: [201/625], loss: 1.479922\n",
            "Epoch: [13/20], step: [401/625], loss: 1.453845\n",
            "Epoch: [13/20], step: [601/625], loss: 1.504306\n",
            "Test: epoch 13 loss: 1.3658081\n",
            "X: 294+2202$#\n",
            "Y: 2496$#\n",
            "O: 2014$#\n",
            "\n",
            "X: 7435-2486$\n",
            "Y: 4949$#\n",
            "O: 4815$#\n",
            "\n",
            "X: 9989-8163$\n",
            "Y: 1826$#\n",
            "O: 1414$#\n",
            "\n",
            "Train: epoch 14\n",
            "Epoch: [14/20], step: [1/625], loss: 1.510475\n",
            "Epoch: [14/20], step: [201/625], loss: 1.465308\n",
            "Epoch: [14/20], step: [401/625], loss: 1.493715\n",
            "Epoch: [14/20], step: [601/625], loss: 1.452775\n",
            "Test: epoch 14 loss: 1.3987069\n",
            "X: 3415-4914$\n",
            "Y: -1499$\n",
            "O: -1445$\n",
            "\n",
            "X: 6813-9139$\n",
            "Y: -2326$\n",
            "O: -2065$\n",
            "\n",
            "X: 8425+2436$\n",
            "Y: 10861$\n",
            "O: 10095$\n",
            "\n",
            "Train: epoch 15\n",
            "Epoch: [15/20], step: [1/625], loss: 1.512386\n",
            "Epoch: [15/20], step: [201/625], loss: 1.474671\n",
            "Epoch: [15/20], step: [401/625], loss: 1.463514\n",
            "Epoch: [15/20], step: [601/625], loss: 1.448958\n",
            "Test: epoch 15 loss: 1.35261\n",
            "X: 6735-7012$\n",
            "Y: -277$#\n",
            "O: -102$#\n",
            "\n",
            "X: 6657+7649$\n",
            "Y: 14306$\n",
            "O: 14079$\n",
            "\n",
            "X: 3308+1372$\n",
            "Y: 4680$#\n",
            "O: 4372$#\n",
            "\n",
            "Train: epoch 16\n",
            "Epoch: [16/20], step: [1/625], loss: 1.480792\n",
            "Epoch: [16/20], step: [201/625], loss: 1.475526\n",
            "Epoch: [16/20], step: [401/625], loss: 1.454575\n",
            "Epoch: [16/20], step: [601/625], loss: 1.532441\n",
            "Test: epoch 16 loss: 1.3625424\n",
            "X: 5076-2330$\n",
            "Y: 2746$#\n",
            "O: 2379$#\n",
            "\n",
            "X: 3519-4265$\n",
            "Y: -746$#\n",
            "O: -1197$\n",
            "\n",
            "X: 9466+5612$\n",
            "Y: 15078$\n",
            "O: 15092$\n",
            "\n",
            "Train: epoch 17\n",
            "Epoch: [17/20], step: [1/625], loss: 1.526747\n",
            "Epoch: [17/20], step: [201/625], loss: 1.468045\n",
            "Epoch: [17/20], step: [401/625], loss: 1.505454\n",
            "Epoch: [17/20], step: [601/625], loss: 1.458180\n",
            "Test: epoch 17 loss: 1.3570014\n",
            "X: 5237-3897$\n",
            "Y: 1340$#\n",
            "O: 1511$#\n",
            "\n",
            "X: 7829+1700$\n",
            "Y: 9529$#\n",
            "O: 9811$#\n",
            "\n",
            "X: 1221-2476$\n",
            "Y: -1255$\n",
            "O: -1111$\n",
            "\n",
            "Train: epoch 18\n",
            "Epoch: [18/20], step: [1/625], loss: 1.459649\n",
            "Epoch: [18/20], step: [201/625], loss: 1.458617\n",
            "Epoch: [18/20], step: [401/625], loss: 1.452248\n",
            "Epoch: [18/20], step: [601/625], loss: 1.440626\n",
            "Test: epoch 18 loss: 1.3576518\n",
            "X: 1982-4014$\n",
            "Y: -2032$\n",
            "O: -2096$\n",
            "\n",
            "X: 4162+8541$\n",
            "Y: 12703$\n",
            "O: 13093$\n",
            "\n",
            "X: 8004-5952$\n",
            "Y: 2052$#\n",
            "O: 1773$#\n",
            "\n",
            "Train: epoch 19\n",
            "Epoch: [19/20], step: [1/625], loss: 1.488878\n",
            "Epoch: [19/20], step: [201/625], loss: 1.443088\n",
            "Epoch: [19/20], step: [401/625], loss: 1.455225\n",
            "Epoch: [19/20], step: [601/625], loss: 1.462833\n",
            "Test: epoch 19 loss: 1.3640895\n",
            "X: 1328-8190$\n",
            "Y: -6862$\n",
            "O: -7199$\n",
            "\n",
            "X: 2002+8378$\n",
            "Y: 10380$\n",
            "O: 10515$\n",
            "\n",
            "X: 1673-7255$\n",
            "Y: -5582$\n",
            "O: -6095$\n",
            "\n",
            "Train: epoch 20\n",
            "Epoch: [20/20], step: [1/625], loss: 1.459431\n",
            "Epoch: [20/20], step: [201/625], loss: 1.462450\n",
            "Epoch: [20/20], step: [401/625], loss: 1.478241\n",
            "Epoch: [20/20], step: [601/625], loss: 1.430569\n",
            "Test: epoch 20 loss: 1.3558409\n",
            "X: 8206-4967$\n",
            "Y: 3239$#\n",
            "O: 3117$#\n",
            "\n",
            "X: 4674+266$#\n",
            "Y: 4940$#\n",
            "O: 5217$#\n",
            "\n",
            "X: 517+8484$#\n",
            "Y: 9001$#\n",
            "O: 9837$#\n",
            "\n",
            "\n",
            "...training finished.\n"
          ],
          "name": "stdout"
        }
      ]
    },
    {
      "cell_type": "markdown",
      "metadata": {
        "id": "j-pD3oJ8dX-y",
        "colab_type": "text"
      },
      "source": [
        "## Evaluate results\n",
        "\n",
        "Because our task is simple and the output is straight-forward, we will use [MAE](https://en.wikipedia.org/wiki/Mean_absolute_error) metric to evaluate the trained model during the epochs. Compute the value of the metric for the output from each epoch."
      ]
    },
    {
      "cell_type": "code",
      "metadata": {
        "id": "-UIpaeYfdX-z",
        "colab_type": "code",
        "colab": {}
      },
      "source": [
        "from sklearn.metrics import mean_absolute_error"
      ],
      "execution_count": 0,
      "outputs": []
    },
    {
      "cell_type": "code",
      "metadata": {
        "id": "MaqIFfrCdX-0",
        "colab_type": "code",
        "colab": {
          "base_uri": "https://localhost:8080/",
          "height": 353
        },
        "outputId": "c0e3fe48-5531-44ab-89b7-fb03e263e612"
      },
      "source": [
        "for i, (gts, predictions, invalid_number_prediction_count) in enumerate(zip(all_ground_truth,\n",
        "                                                                            all_model_predictions,\n",
        "                                                                            invalid_number_prediction_counts), 1):\n",
        "    \n",
        "    mae = mean_absolute_error(gts, predictions)\n",
        "    print(\"Epoch: %i, MAE: %f, Invalid numbers: %i\" % (i, mae, invalid_number_prediction_count))"
      ],
      "execution_count": 111,
      "outputs": [
        {
          "output_type": "stream",
          "text": [
            "Epoch: 1, MAE: 3347.965450, Invalid numbers: 0\n",
            "Epoch: 2, MAE: 1351.944300, Invalid numbers: 0\n",
            "Epoch: 3, MAE: 730.281600, Invalid numbers: 0\n",
            "Epoch: 4, MAE: 628.585350, Invalid numbers: 0\n",
            "Epoch: 5, MAE: 510.231700, Invalid numbers: 0\n",
            "Epoch: 6, MAE: 455.497950, Invalid numbers: 0\n",
            "Epoch: 7, MAE: 375.682550, Invalid numbers: 0\n",
            "Epoch: 8, MAE: 360.515150, Invalid numbers: 0\n",
            "Epoch: 9, MAE: 417.735500, Invalid numbers: 0\n",
            "Epoch: 10, MAE: 402.739200, Invalid numbers: 0\n",
            "Epoch: 11, MAE: 335.636500, Invalid numbers: 0\n",
            "Epoch: 12, MAE: 303.298000, Invalid numbers: 0\n",
            "Epoch: 13, MAE: 296.256200, Invalid numbers: 0\n",
            "Epoch: 14, MAE: 337.871100, Invalid numbers: 0\n",
            "Epoch: 15, MAE: 261.680600, Invalid numbers: 0\n",
            "Epoch: 16, MAE: 256.761200, Invalid numbers: 0\n",
            "Epoch: 17, MAE: 271.836350, Invalid numbers: 0\n",
            "Epoch: 18, MAE: 271.597950, Invalid numbers: 0\n",
            "Epoch: 19, MAE: 234.745500, Invalid numbers: 0\n",
            "Epoch: 20, MAE: 284.058700, Invalid numbers: 0\n"
          ],
          "name": "stdout"
        }
      ]
    },
    {
      "cell_type": "code",
      "metadata": {
        "id": "Lgtpvn5DqEbP",
        "colab_type": "code",
        "colab": {}
      },
      "source": [
        ""
      ],
      "execution_count": 0,
      "outputs": []
    }
  ]
}